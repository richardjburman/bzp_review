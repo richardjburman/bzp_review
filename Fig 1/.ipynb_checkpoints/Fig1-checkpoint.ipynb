{
 "cells": [
  {
   "cell_type": "markdown",
   "id": "6aad53f2",
   "metadata": {},
   "source": [
    "Code for plotting metanalysis data in Fig 1 \n",
    "<br>\n",
    "created RJ Burman April 2020\n",
    "<br>\n",
    "modified RJ Burman July 2020\n",
    "<br>\n",
    "modified RJ Burman May 2021\n",
    "<br>\n",
    "modified RJ Burman Aug 2021\n",
    "<br>\n",
    "modified RJ Burman Nov 2021 *uploaded onto GitHub"
   ]
  },
  {
   "cell_type": "code",
   "execution_count": 1,
   "id": "58ce3943",
   "metadata": {},
   "outputs": [],
   "source": [
    "#importing libraries\n",
    "import os\n",
    "import numpy as np\n",
    "import pandas as pd\n",
    "import matplotlib.pylab as plt\n",
    "import seaborn as sns\n",
    "import bzpR_Fig1 as bzpR\n",
    "import warnings\n",
    "warnings.filterwarnings(\"ignore\")"
   ]
  },
  {
   "cell_type": "markdown",
   "id": "4b381894",
   "metadata": {},
   "source": [
    "Importing .csv file with data "
   ]
  },
  {
   "cell_type": "code",
   "execution_count": 2,
   "id": "42bf0f01",
   "metadata": {},
   "outputs": [
    {
     "data": {
      "text/html": [
       "<div>\n",
       "<style scoped>\n",
       "    .dataframe tbody tr th:only-of-type {\n",
       "        vertical-align: middle;\n",
       "    }\n",
       "\n",
       "    .dataframe tbody tr th {\n",
       "        vertical-align: top;\n",
       "    }\n",
       "\n",
       "    .dataframe thead th {\n",
       "        text-align: right;\n",
       "    }\n",
       "</style>\n",
       "<table border=\"1\" class=\"dataframe\">\n",
       "  <thead>\n",
       "    <tr style=\"text-align: right;\">\n",
       "      <th></th>\n",
       "      <th>study</th>\n",
       "      <th>year</th>\n",
       "      <th>region</th>\n",
       "      <th>state</th>\n",
       "      <th>age</th>\n",
       "      <th>resistance</th>\n",
       "      <th>episodes</th>\n",
       "      <th>phase</th>\n",
       "    </tr>\n",
       "  </thead>\n",
       "  <tbody>\n",
       "    <tr>\n",
       "      <th>0</th>\n",
       "      <td>Skinner et al</td>\n",
       "      <td>2010</td>\n",
       "      <td>HND</td>\n",
       "      <td>LMIC</td>\n",
       "      <td>adult</td>\n",
       "      <td>0.65</td>\n",
       "      <td>31</td>\n",
       "      <td>&gt;60min</td>\n",
       "    </tr>\n",
       "    <tr>\n",
       "      <th>1</th>\n",
       "      <td>Burman et al</td>\n",
       "      <td>2019</td>\n",
       "      <td>SA</td>\n",
       "      <td>LMIC</td>\n",
       "      <td>paediatric</td>\n",
       "      <td>0.48</td>\n",
       "      <td>144</td>\n",
       "      <td>31-60min</td>\n",
       "    </tr>\n",
       "    <tr>\n",
       "      <th>2</th>\n",
       "      <td>Theusinger</td>\n",
       "      <td>2019</td>\n",
       "      <td>CHE</td>\n",
       "      <td>HIC</td>\n",
       "      <td>adult</td>\n",
       "      <td>0.28</td>\n",
       "      <td>126</td>\n",
       "      <td>10-30min</td>\n",
       "    </tr>\n",
       "    <tr>\n",
       "      <th>3</th>\n",
       "      <td>Theusinger</td>\n",
       "      <td>2019</td>\n",
       "      <td>CHE</td>\n",
       "      <td>HIC</td>\n",
       "      <td>paediatric</td>\n",
       "      <td>0.03</td>\n",
       "      <td>39</td>\n",
       "      <td>10-30min</td>\n",
       "    </tr>\n",
       "    <tr>\n",
       "      <th>4</th>\n",
       "      <td>Kay et al</td>\n",
       "      <td>2019</td>\n",
       "      <td>DEU</td>\n",
       "      <td>HIC</td>\n",
       "      <td>adult</td>\n",
       "      <td>0.43</td>\n",
       "      <td>42</td>\n",
       "      <td>31-60min</td>\n",
       "    </tr>\n",
       "    <tr>\n",
       "      <th>5</th>\n",
       "      <td>Hasan et al</td>\n",
       "      <td>2016</td>\n",
       "      <td>IND</td>\n",
       "      <td>LMIC</td>\n",
       "      <td>both</td>\n",
       "      <td>0.78</td>\n",
       "      <td>84</td>\n",
       "      <td>&gt;60min</td>\n",
       "    </tr>\n",
       "    <tr>\n",
       "      <th>6</th>\n",
       "      <td>Navarro et al</td>\n",
       "      <td>2016</td>\n",
       "      <td>FRA</td>\n",
       "      <td>HIC</td>\n",
       "      <td>adult</td>\n",
       "      <td>0.16</td>\n",
       "      <td>68</td>\n",
       "      <td>&gt;60min</td>\n",
       "    </tr>\n",
       "    <tr>\n",
       "      <th>7</th>\n",
       "      <td>Chamberlain et al</td>\n",
       "      <td>2014</td>\n",
       "      <td>USA</td>\n",
       "      <td>HIC</td>\n",
       "      <td>paediatric</td>\n",
       "      <td>0.15</td>\n",
       "      <td>273</td>\n",
       "      <td>unknown</td>\n",
       "    </tr>\n",
       "    <tr>\n",
       "      <th>8</th>\n",
       "      <td>Thakker et al</td>\n",
       "      <td>2013</td>\n",
       "      <td>IND</td>\n",
       "      <td>LMIC</td>\n",
       "      <td>paediatric</td>\n",
       "      <td>0.54</td>\n",
       "      <td>50</td>\n",
       "      <td>31-60min</td>\n",
       "    </tr>\n",
       "    <tr>\n",
       "      <th>9</th>\n",
       "      <td>Silbergleit et al</td>\n",
       "      <td>2012</td>\n",
       "      <td>USA</td>\n",
       "      <td>HIC</td>\n",
       "      <td>both</td>\n",
       "      <td>0.43</td>\n",
       "      <td>509</td>\n",
       "      <td>unknown</td>\n",
       "    </tr>\n",
       "    <tr>\n",
       "      <th>10</th>\n",
       "      <td>Mirsa et al</td>\n",
       "      <td>2012</td>\n",
       "      <td>IND</td>\n",
       "      <td>LMIC</td>\n",
       "      <td>adult</td>\n",
       "      <td>0.24</td>\n",
       "      <td>79</td>\n",
       "      <td>10-30min</td>\n",
       "    </tr>\n",
       "    <tr>\n",
       "      <th>11</th>\n",
       "      <td>Gathwala et al</td>\n",
       "      <td>2012</td>\n",
       "      <td>IND</td>\n",
       "      <td>LMIC</td>\n",
       "      <td>paediatric</td>\n",
       "      <td>0.14</td>\n",
       "      <td>120</td>\n",
       "      <td>31-60min</td>\n",
       "    </tr>\n",
       "    <tr>\n",
       "      <th>12</th>\n",
       "      <td>Arya et al</td>\n",
       "      <td>2011</td>\n",
       "      <td>IND</td>\n",
       "      <td>LMIC</td>\n",
       "      <td>paediatric</td>\n",
       "      <td>0.18</td>\n",
       "      <td>141</td>\n",
       "      <td>unknown</td>\n",
       "    </tr>\n",
       "    <tr>\n",
       "      <th>13</th>\n",
       "      <td>Chen et al</td>\n",
       "      <td>2011</td>\n",
       "      <td>CHN</td>\n",
       "      <td>LMIC</td>\n",
       "      <td>adult</td>\n",
       "      <td>0.38</td>\n",
       "      <td>121</td>\n",
       "      <td>31-60min</td>\n",
       "    </tr>\n",
       "    <tr>\n",
       "      <th>14</th>\n",
       "      <td>Amare et al</td>\n",
       "      <td>2008</td>\n",
       "      <td>ETH</td>\n",
       "      <td>LMIC</td>\n",
       "      <td>adult</td>\n",
       "      <td>0.63</td>\n",
       "      <td>119</td>\n",
       "      <td>&gt;60min</td>\n",
       "    </tr>\n",
       "    <tr>\n",
       "      <th>15</th>\n",
       "      <td>Chin et al</td>\n",
       "      <td>2008</td>\n",
       "      <td>GBR</td>\n",
       "      <td>HIC</td>\n",
       "      <td>paediatric</td>\n",
       "      <td>0.35</td>\n",
       "      <td>240</td>\n",
       "      <td>31-60min</td>\n",
       "    </tr>\n",
       "    <tr>\n",
       "      <th>16</th>\n",
       "      <td>Mpimbaza et al</td>\n",
       "      <td>2008</td>\n",
       "      <td>UGA</td>\n",
       "      <td>LMIC</td>\n",
       "      <td>paediatric</td>\n",
       "      <td>0.37</td>\n",
       "      <td>330</td>\n",
       "      <td>&gt;60min</td>\n",
       "    </tr>\n",
       "    <tr>\n",
       "      <th>17</th>\n",
       "      <td>Ahmad et al</td>\n",
       "      <td>2006</td>\n",
       "      <td>MWI</td>\n",
       "      <td>LMIC</td>\n",
       "      <td>paediatric</td>\n",
       "      <td>0.25</td>\n",
       "      <td>80</td>\n",
       "      <td>&gt;60min</td>\n",
       "    </tr>\n",
       "    <tr>\n",
       "      <th>18</th>\n",
       "      <td>McIntyre et al</td>\n",
       "      <td>2005</td>\n",
       "      <td>GBR</td>\n",
       "      <td>HIC</td>\n",
       "      <td>paediatric</td>\n",
       "      <td>0.58</td>\n",
       "      <td>219</td>\n",
       "      <td>31-60min</td>\n",
       "    </tr>\n",
       "    <tr>\n",
       "      <th>19</th>\n",
       "      <td>Qureshi et al</td>\n",
       "      <td>2002</td>\n",
       "      <td>GBR</td>\n",
       "      <td>HIC</td>\n",
       "      <td>paediatric</td>\n",
       "      <td>0.25</td>\n",
       "      <td>48</td>\n",
       "      <td>31-60min</td>\n",
       "    </tr>\n",
       "    <tr>\n",
       "      <th>20</th>\n",
       "      <td>Mayer et al</td>\n",
       "      <td>2002</td>\n",
       "      <td>USA</td>\n",
       "      <td>HIC</td>\n",
       "      <td>adult</td>\n",
       "      <td>0.69</td>\n",
       "      <td>83</td>\n",
       "      <td>&gt;60min</td>\n",
       "    </tr>\n",
       "    <tr>\n",
       "      <th>21</th>\n",
       "      <td>Alldredge et al</td>\n",
       "      <td>2001</td>\n",
       "      <td>USA</td>\n",
       "      <td>HIC</td>\n",
       "      <td>adult</td>\n",
       "      <td>0.49</td>\n",
       "      <td>134</td>\n",
       "      <td>31-60min</td>\n",
       "    </tr>\n",
       "    <tr>\n",
       "      <th>22</th>\n",
       "      <td>Fisgin et al</td>\n",
       "      <td>2001</td>\n",
       "      <td>TUR</td>\n",
       "      <td>LMIC</td>\n",
       "      <td>paediatric</td>\n",
       "      <td>0.42</td>\n",
       "      <td>45</td>\n",
       "      <td>&gt;60min</td>\n",
       "    </tr>\n",
       "    <tr>\n",
       "      <th>23</th>\n",
       "      <td>Tabarki et al</td>\n",
       "      <td>2001</td>\n",
       "      <td>TUN</td>\n",
       "      <td>LMIC</td>\n",
       "      <td>paediatric</td>\n",
       "      <td>0.45</td>\n",
       "      <td>139</td>\n",
       "      <td>31-60min</td>\n",
       "    </tr>\n",
       "    <tr>\n",
       "      <th>24</th>\n",
       "      <td>Lahat et al</td>\n",
       "      <td>2000</td>\n",
       "      <td>ISR</td>\n",
       "      <td>HIC</td>\n",
       "      <td>paediatric</td>\n",
       "      <td>0.05</td>\n",
       "      <td>44</td>\n",
       "      <td>10-30min</td>\n",
       "    </tr>\n",
       "    <tr>\n",
       "      <th>25</th>\n",
       "      <td>Coeytaux et al</td>\n",
       "      <td>2000</td>\n",
       "      <td>CHE</td>\n",
       "      <td>HIC</td>\n",
       "      <td>both</td>\n",
       "      <td>0.12</td>\n",
       "      <td>172</td>\n",
       "      <td>&gt;60min</td>\n",
       "    </tr>\n",
       "    <tr>\n",
       "      <th>26</th>\n",
       "      <td>Scott et al</td>\n",
       "      <td>1999</td>\n",
       "      <td>GBR</td>\n",
       "      <td>HIC</td>\n",
       "      <td>both</td>\n",
       "      <td>0.33</td>\n",
       "      <td>42</td>\n",
       "      <td>31-60min</td>\n",
       "    </tr>\n",
       "    <tr>\n",
       "      <th>27</th>\n",
       "      <td>Treiman et al</td>\n",
       "      <td>1998</td>\n",
       "      <td>USA</td>\n",
       "      <td>HIC</td>\n",
       "      <td>adult</td>\n",
       "      <td>0.35</td>\n",
       "      <td>384</td>\n",
       "      <td>unknown</td>\n",
       "    </tr>\n",
       "    <tr>\n",
       "      <th>28</th>\n",
       "      <td>Chamberlain et al</td>\n",
       "      <td>1997</td>\n",
       "      <td>USA</td>\n",
       "      <td>HIC</td>\n",
       "      <td>paediatric</td>\n",
       "      <td>0.08</td>\n",
       "      <td>24</td>\n",
       "      <td>31-60min</td>\n",
       "    </tr>\n",
       "    <tr>\n",
       "      <th>29</th>\n",
       "      <td>Appleton et al</td>\n",
       "      <td>1995</td>\n",
       "      <td>GBR</td>\n",
       "      <td>HIC</td>\n",
       "      <td>paediatric</td>\n",
       "      <td>0.21</td>\n",
       "      <td>86</td>\n",
       "      <td>31-60min</td>\n",
       "    </tr>\n",
       "    <tr>\n",
       "      <th>30</th>\n",
       "      <td>Remy et al</td>\n",
       "      <td>1992</td>\n",
       "      <td>FRA</td>\n",
       "      <td>HIC</td>\n",
       "      <td>adult</td>\n",
       "      <td>0.28</td>\n",
       "      <td>39</td>\n",
       "      <td>unknown</td>\n",
       "    </tr>\n",
       "    <tr>\n",
       "      <th>31</th>\n",
       "      <td>Das et al</td>\n",
       "      <td>2020</td>\n",
       "      <td>IND</td>\n",
       "      <td>LMIC</td>\n",
       "      <td>paediatric</td>\n",
       "      <td>0.89</td>\n",
       "      <td>94</td>\n",
       "      <td>&gt;60min</td>\n",
       "    </tr>\n",
       "  </tbody>\n",
       "</table>\n",
       "</div>"
      ],
      "text/plain": [
       "                study  year region state         age  resistance  episodes  \\\n",
       "0       Skinner et al  2010    HND  LMIC       adult        0.65        31   \n",
       "1        Burman et al  2019     SA  LMIC  paediatric        0.48       144   \n",
       "2          Theusinger  2019    CHE   HIC       adult        0.28       126   \n",
       "3          Theusinger  2019    CHE   HIC  paediatric        0.03        39   \n",
       "4           Kay et al  2019    DEU   HIC       adult        0.43        42   \n",
       "5         Hasan et al  2016    IND  LMIC        both        0.78        84   \n",
       "6       Navarro et al  2016    FRA   HIC       adult        0.16        68   \n",
       "7   Chamberlain et al  2014    USA   HIC  paediatric        0.15       273   \n",
       "8       Thakker et al  2013    IND  LMIC  paediatric        0.54        50   \n",
       "9   Silbergleit et al  2012    USA   HIC        both        0.43       509   \n",
       "10        Mirsa et al  2012    IND  LMIC       adult        0.24        79   \n",
       "11     Gathwala et al  2012    IND  LMIC  paediatric        0.14       120   \n",
       "12         Arya et al  2011    IND  LMIC  paediatric        0.18       141   \n",
       "13         Chen et al  2011    CHN  LMIC       adult        0.38       121   \n",
       "14        Amare et al  2008    ETH  LMIC       adult        0.63       119   \n",
       "15        Chin et al   2008    GBR   HIC  paediatric        0.35       240   \n",
       "16     Mpimbaza et al  2008    UGA  LMIC  paediatric        0.37       330   \n",
       "17        Ahmad et al  2006    MWI  LMIC  paediatric        0.25        80   \n",
       "18     McIntyre et al  2005    GBR   HIC  paediatric        0.58       219   \n",
       "19      Qureshi et al  2002    GBR   HIC  paediatric        0.25        48   \n",
       "20        Mayer et al  2002    USA   HIC       adult        0.69        83   \n",
       "21    Alldredge et al  2001    USA   HIC       adult        0.49       134   \n",
       "22       Fisgin et al  2001    TUR  LMIC  paediatric        0.42        45   \n",
       "23      Tabarki et al  2001    TUN  LMIC  paediatric        0.45       139   \n",
       "24        Lahat et al  2000    ISR   HIC  paediatric        0.05        44   \n",
       "25    Coeytaux et al   2000    CHE   HIC        both        0.12       172   \n",
       "26        Scott et al  1999    GBR   HIC        both        0.33        42   \n",
       "27      Treiman et al  1998    USA   HIC       adult        0.35       384   \n",
       "28  Chamberlain et al  1997    USA   HIC  paediatric        0.08        24   \n",
       "29     Appleton et al  1995    GBR   HIC  paediatric        0.21        86   \n",
       "30         Remy et al  1992    FRA   HIC       adult        0.28        39   \n",
       "31          Das et al  2020    IND  LMIC  paediatric        0.89        94   \n",
       "\n",
       "       phase  \n",
       "0     >60min  \n",
       "1   31-60min  \n",
       "2   10-30min  \n",
       "3   10-30min  \n",
       "4   31-60min  \n",
       "5     >60min  \n",
       "6     >60min  \n",
       "7    unknown  \n",
       "8   31-60min  \n",
       "9    unknown  \n",
       "10  10-30min  \n",
       "11  31-60min  \n",
       "12   unknown  \n",
       "13  31-60min  \n",
       "14    >60min  \n",
       "15  31-60min  \n",
       "16    >60min  \n",
       "17    >60min  \n",
       "18  31-60min  \n",
       "19  31-60min  \n",
       "20    >60min  \n",
       "21  31-60min  \n",
       "22    >60min  \n",
       "23  31-60min  \n",
       "24  10-30min  \n",
       "25    >60min  \n",
       "26  31-60min  \n",
       "27   unknown  \n",
       "28  31-60min  \n",
       "29  31-60min  \n",
       "30   unknown  \n",
       "31    >60min  "
      ]
     },
     "execution_count": 2,
     "metadata": {},
     "output_type": "execute_result"
    }
   ],
   "source": [
    "data = pd.read_csv(r'C:\\Users\\rburman.MSDITUN-TMV0GCR\\OneDrive - Nexus365\\Code\\bzp_review\\Fig 1\\Burman_Fig1_data.csv')\n",
    "data"
   ]
  },
  {
   "cell_type": "markdown",
   "id": "6aaf3f56",
   "metadata": {},
   "source": [
    "Counting the number of studies from high-income countries (HIC) and low-middle-income countires (LMIC)"
   ]
  },
  {
   "cell_type": "code",
   "execution_count": 3,
   "id": "766a0a55",
   "metadata": {},
   "outputs": [
    {
     "name": "stdout",
     "output_type": "stream",
     "text": [
      "HIC:  18 studies\n",
      "LMIC:  14 studies\n"
     ]
    }
   ],
   "source": [
    "no_of_studies = data['state'].value_counts()\n",
    "print('HIC: ',no_of_studies[0], 'studies')\n",
    "print('LMIC: ',no_of_studies[1], 'studies')"
   ]
  },
  {
   "cell_type": "markdown",
   "id": "c9a165a4",
   "metadata": {},
   "source": [
    "Calculating the total number of SE studies across all studies"
   ]
  },
  {
   "cell_type": "code",
   "execution_count": 4,
   "id": "ac6476ac",
   "metadata": {},
   "outputs": [
    {
     "name": "stdout",
     "output_type": "stream",
     "text": [
      "SE episodes across all studies:  4149 episodes\n"
     ]
    }
   ],
   "source": [
    "total_episodes = data['episodes'].sum()\n",
    "print('SE episodes across all studies: ',total_episodes, 'episodes')"
   ]
  },
  {
   "cell_type": "markdown",
   "id": "7719a7b2",
   "metadata": {},
   "source": [
    "Generating data and related plots for Fig1A using custom function bzpR.fig1A"
   ]
  },
  {
   "cell_type": "code",
   "execution_count": 5,
   "id": "30b85417",
   "metadata": {},
   "outputs": [],
   "source": [
    "Fig1A, SuppFig1A, nonweighted_stats, weighted_stats = bzpR.fig1A(data)"
   ]
  },
  {
   "cell_type": "markdown",
   "id": "08675bf5",
   "metadata": {},
   "source": [
    "Figure showing data across economic groups with mean and comparative statistic reported"
   ]
  },
  {
   "cell_type": "code",
   "execution_count": 6,
   "id": "49ef6bfc",
   "metadata": {},
   "outputs": [
    {
     "name": "stdout",
     "output_type": "stream",
     "text": [
      "Mean BZP-Resistant (%) reported for HIC:  29.22 %\n",
      "Mean BZP-Resistant (%) reported for LMIC:  45.71 %\n",
      "Mean BZP-Resistant (%) reported across economic groups:  36.44 %\n",
      "\n",
      "Statistic comparison between HIC vs LMIC (p-value):  0.03\n",
      "Statistic test used:  unpaired t-test\n"
     ]
    },
    {
     "data": {
      "image/png": "[encoded data removed]",
      "text/plain": [
       "<Figure size 360x360 with 1 Axes>"
      ]
     },
     "execution_count": 6,
     "metadata": {},
     "output_type": "execute_result"
    }
   ],
   "source": [
    "#print('Mean BZP-Resistant (%) reported for HIC: ', np.round(mean_hic,2),'%')\n",
    "#print('Mean BZP-Resistant (%) reported for LMIC: ', np.round(mean_lmic,2),'%')\n",
    "#print('Mean BZP-Resistant (%) reported across economic groups: ', np.round(mean_total,2),'%')\n",
    "#print()\n",
    "#print('Statistic comparison between HIC vs LMIC (p-value): ', np.round(p_value[1],2))\n",
    "#print('Statistic test used: ', test)\n",
    "\n",
    "Fig1A"
   ]
  },
  {
   "cell_type": "markdown",
   "id": "c3c6d961",
   "metadata": {},
   "source": [
    "Plot showing resistance reported across studies weighted by sample size and separated by age group of participants"
   ]
  },
  {
   "cell_type": "code",
   "execution_count": 7,
   "id": "c21a6ca0",
   "metadata": {},
   "outputs": [
    {
     "name": "stdout",
     "output_type": "stream",
     "text": [
      "Weighted mean (%) reported for HIC:  29.22 %\n",
      "Weighted mean (%) reported for LMIC:  45.71 %\n",
      "Weighted mean (%) reported across economic groups:  36.44 %\n"
     ]
    },
    {
     "data": {
      "image/png": "[encoded data removed]",
      "text/plain": [
       "<Figure size 360x360 with 1 Axes>"
      ]
     },
     "execution_count": 7,
     "metadata": {},
     "output_type": "execute_result"
    }
   ],
   "source": [
    "print('Weighted mean (%) reported for HIC: ', np.round(mean_hic,2),'%')\n",
    "print('Weighted mean (%) reported for LMIC: ', np.round(mean_lmic,2),'%')\n",
    "print('Weighted mean (%) reported across economic groups: ', np.round(mean_total,2),'%')\n",
    "\n",
    "SuppFig1A"
   ]
  },
  {
   "cell_type": "code",
   "execution_count": 24,
   "id": "c3429d1f",
   "metadata": {},
   "outputs": [
    {
     "data": {
      "text/plain": [
       "42.55485098287888"
      ]
     },
     "execution_count": 24,
     "metadata": {},
     "output_type": "execute_result"
    }
   ],
   "source": [
    "weighted_stats_lmic.mean*100"
   ]
  },
  {
   "cell_type": "code",
   "execution_count": 9,
   "id": "4d0f1559",
   "metadata": {},
   "outputs": [],
   "source": [
    "os.chdir(r'C:\\Users\\rburman.MSDITUN-TMV0GCR\\OneDrive - Nexus365\\Code\\bzp_review\\Fig 1')\n",
    "Fig1A.savefig('Fig1A' + '.png', format='png')\n",
    "Fig1A.savefig('Fig1A' + '.svg', format='svg')\n",
    "SuppFig1A.savefig('SuppFig1A' + '.png', format='png')\n",
    "SuppFig1A.savefig('SuppFig1A' + '.svg', format='svg')"
   ]
  },
  {
   "cell_type": "markdown",
   "id": "cf5c320c",
   "metadata": {},
   "source": [
    "Calculating metrics and plotting figures for data associating BZP-R (%) with SE duration\n",
    "SE duration categorised as either <60min or >60min"
   ]
  },
  {
   "cell_type": "markdown",
   "id": "a989d8e2",
   "metadata": {},
   "source": [
    "Fig1B - revised figure demonstrating signifiant increase in BZP-R(%) with SE over 60min"
   ]
  },
  {
   "cell_type": "code",
   "execution_count": 10,
   "id": "19d13540",
   "metadata": {},
   "outputs": [
    {
     "name": "stdout",
     "output_type": "stream",
     "text": [
      "Mean BZP-R (%) for SE between 10-30min duration:  15.0 %\n",
      "Mean BZP-R (%) for SE between 31-60min duration:  15.0 %\n",
      "Mean BZP-R (%) for SE between <60minmin duration:  15.0 %\n",
      "Mean BZP-R (%) for SE between >60min duration:  15.0 %\n",
      "\n",
      "Statistic comparison between <60min vs >60min (p-value):  0.04\n",
      "Statistic test used:  unpaired t-test\n"
     ]
    },
    {
     "data": {
      "image/png": "[encoded data removed]",
      "text/plain": [
       "<Figure size 360x360 with 1 Axes>"
      ]
     },
     "execution_count": 10,
     "metadata": {},
     "output_type": "execute_result"
    }
   ],
   "source": [
    "mean_sub30,mean_over30sub60,mean_sub60,mean_over60,p_value,test,weighted_means_phases,Fig1B = bzpR.fig1B(data)\n",
    "\n",
    "print('Mean BZP-R (%) for SE between 10-30min duration: ',np.round(mean_sub30,2),'%')\n",
    "print('Mean BZP-R (%) for SE between 31-60min duration: ',np.round(mean_sub30,2),'%')\n",
    "print('Mean BZP-R (%) for SE between <60minmin duration: ',np.round(mean_sub30,2),'%')\n",
    "print('Mean BZP-R (%) for SE between >60min duration: ',np.round(mean_sub30,2),'%')\n",
    "print()\n",
    "print('Statistic comparison between <60min vs >60min (p-value): ', np.round(p_value[1],2))\n",
    "print('Statistic test used: ', test)\n",
    "Fig1B"
   ]
  },
  {
   "cell_type": "markdown",
   "id": "37a1169c",
   "metadata": {},
   "source": [
    "Saving figures in output directory"
   ]
  },
  {
   "cell_type": "code",
   "execution_count": 11,
   "id": "373c9c97",
   "metadata": {
    "scrolled": true
   },
   "outputs": [],
   "source": [
    "os.chdir(r'C:\\Users\\rburman.MSDITUN-TMV0GCR\\OneDrive - Nexus365\\Code\\bzp_review\\Fig 1')\n",
    "Fig1B.savefig('Fig1B' + '.png', format='png')\n",
    "Fig1B.savefig('Fig1B' + '.svg', format='svg')"
   ]
  },
  {
   "cell_type": "markdown",
   "id": "305733bf",
   "metadata": {},
   "source": [
    "Supp Fig1B - Stratifying data in Fig1B across different economic groups"
   ]
  },
  {
   "cell_type": "code",
   "execution_count": 12,
   "id": "97363ef5",
   "metadata": {},
   "outputs": [],
   "source": [
    "data_hic, data_lmic, cont_table, cont_stats, SuppFig1B, SuppFig1C, SuppFig1D = bzpR.suppfigs(data, p_value, weighted_means_phases)"
   ]
  },
  {
   "cell_type": "markdown",
   "id": "0c53a345",
   "metadata": {},
   "source": [
    "Data from studies produced by High-income (HIC) countries: "
   ]
  },
  {
   "cell_type": "code",
   "execution_count": 13,
   "id": "e2a5174f",
   "metadata": {},
   "outputs": [
    {
     "name": "stdout",
     "output_type": "stream",
     "text": [
      "For HIC:\n",
      "Mean BZP-R (%) for SE between 10-30min duration in HIC:  12.0 %\n",
      "Mean BZP-R (%) for SE between 31-60min duration in HIC:  34.0 %\n",
      "Mean BZP-R (%) for SE between <60min duration in HIC:  28.0 %\n",
      "Mean BZP-R (%) for SE between >60min duration in HIC:  28.0 %\n",
      "Statistic comparison between <60min vs >60min (p-value) in lmic:  0.18\n",
      "Statistic test used:  unpaired t-test\n",
      "\n"
     ]
    }
   ],
   "source": [
    "print('For HIC:') \n",
    "print('Mean BZP-R (%) for SE between 10-30min duration in HIC: ',np.round(data_hic['Mean 10-30min HIC'],2),'%')\n",
    "print('Mean BZP-R (%) for SE between 31-60min duration in HIC: ',np.round(data_hic['Mean 31-60min HIC'],2),'%')\n",
    "print('Mean BZP-R (%) for SE between <60min duration in HIC: ',np.round(data_hic['Mean <60min HIC'],2),'%')\n",
    "print('Mean BZP-R (%) for SE between >60min duration in HIC: ',np.round(data_hic['Mean <60min HIC'],2),'%')\n",
    "\n",
    "p_value_hic = data_hic['p-value HIC']\n",
    "p_value_hic = p_value_hic[1]\n",
    "print('Statistic comparison between <60min vs >60min (p-value) in lmic: ',np.round(p_value_hic,2),)\n",
    "print('Statistic test used: ', data_hic['Test HIC'])\n",
    "\n",
    "print()"
   ]
  },
  {
   "cell_type": "markdown",
   "id": "270abd46",
   "metadata": {},
   "source": [
    "Data from studies produced by Low-middle-income (LMIC) countries: "
   ]
  },
  {
   "cell_type": "code",
   "execution_count": 14,
   "id": "1aeaba1d",
   "metadata": {},
   "outputs": [
    {
     "name": "stdout",
     "output_type": "stream",
     "text": [
      "For LMIC:\n",
      "Mean BZP-R (%) for SE between 10-30min duration in LMIC:  24.0 %\n",
      "Mean BZP-R (%) for SE between 31-60min duration in LMIC:  39.8 %\n",
      "Mean BZP-R (%) for SE between <60min duration in LMIC:  37.17 %\n",
      "Mean BZP-R (%) for SE between >60min duration in LMIC:  37.17 %\n",
      "Statistic comparison between <60min vs >60min (p-value) in lmic:  0.1\n",
      "Statistic test used:  unpaired t-test\n",
      "\n"
     ]
    }
   ],
   "source": [
    "print('For LMIC:') \n",
    "print('Mean BZP-R (%) for SE between 10-30min duration in LMIC: ',np.round(data_lmic['Mean 10-30min LMIC'],2),'%')\n",
    "print('Mean BZP-R (%) for SE between 31-60min duration in LMIC: ',np.round(data_lmic['Mean 31-60min LMIC'],2),'%')\n",
    "print('Mean BZP-R (%) for SE between <60min duration in LMIC: ',np.round(data_lmic['Mean <60min LMIC'],2),'%')\n",
    "print('Mean BZP-R (%) for SE between >60min duration in LMIC: ',np.round(data_lmic['Mean <60min LMIC'],2),'%')\n",
    "\n",
    "p_value_lmic = data_lmic['p-value LMIC']\n",
    "p_value_lmic = p_value_lmic[1]\n",
    "\n",
    "print('Statistic comparison between <60min vs >60min (p-value) in lmic: ',np.round(p_value_lmic,2),)\n",
    "print('Statistic test used: ', data_lmic['Test LMIC'])\n",
    "\n",
    "print()"
   ]
  },
  {
   "cell_type": "code",
   "execution_count": 15,
   "id": "6c190604",
   "metadata": {},
   "outputs": [
    {
     "data": {
      "image/png": "[encoded data removed]",
      "text/plain": [
       "<Figure size 360x360 with 1 Axes>"
      ]
     },
     "execution_count": 15,
     "metadata": {},
     "output_type": "execute_result"
    }
   ],
   "source": [
    "SuppFig1B"
   ]
  },
  {
   "cell_type": "code",
   "execution_count": 16,
   "id": "43c1c2d8",
   "metadata": {},
   "outputs": [],
   "source": [
    "SuppFig1B.savefig('SuppFig1B' + '.png', format='png')\n",
    "SuppFig1B.savefig('SuppFig1B' + '.svg', format='svg')"
   ]
  },
  {
   "cell_type": "markdown",
   "id": "27a213cc",
   "metadata": {},
   "source": [
    "Contingency table showing association between duration of SE reported and economic area in which study performed"
   ]
  },
  {
   "cell_type": "code",
   "execution_count": 17,
   "id": "da4f5daf",
   "metadata": {},
   "outputs": [
    {
     "name": "stdout",
     "output_type": "stream",
     "text": [
      "╒══════╤═════════════╤═════════════╕\n",
      "│      │ SE <60min   │ SE >60min   │\n",
      "╞══════╪═════════════╪═════════════╡\n",
      "│ HIC  │ 78.57%      │ 21.43%      │\n",
      "├──────┼─────────────┼─────────────┤\n",
      "│ LMIC │ 46.15%      │ 53.85%      │\n",
      "╘══════╧═════════════╧═════════════╛\n",
      "p-value (Fisher-Exact Test):  0.000004\n",
      "Odds Ratio:  4.28\n"
     ]
    }
   ],
   "source": [
    "p_value = cont_stats['p-value']\n",
    "OR = np.round(cont_stats['OR'],2)\n",
    "\n",
    "print(cont_table)\n",
    "print('p-value (Fisher-Exact Test): ','{:f}'.format(p_value))\n",
    "print('Odds Ratio: ', OR)"
   ]
  },
  {
   "cell_type": "markdown",
   "id": "a174f6c5",
   "metadata": {},
   "source": [
    "Iterpretation: Studis reporting SE duration >60min prior to BZP treatment are more likely to come from LMIC compared to HIC"
   ]
  },
  {
   "cell_type": "markdown",
   "id": "5cdc82a5",
   "metadata": {},
   "source": [
    "Plotting difference in number of SE duration across economic groups"
   ]
  },
  {
   "cell_type": "code",
   "execution_count": 18,
   "id": "56c734e2",
   "metadata": {},
   "outputs": [
    {
     "data": {
      "image/png": "[encoded data removed]",
      "text/plain": [
       "<Figure size 360x360 with 1 Axes>"
      ]
     },
     "execution_count": 18,
     "metadata": {},
     "output_type": "execute_result"
    }
   ],
   "source": [
    "SuppFig1C"
   ]
  },
  {
   "cell_type": "code",
   "execution_count": 19,
   "id": "da7511a5",
   "metadata": {},
   "outputs": [],
   "source": [
    "SuppFig1C.savefig('SuppFig1C' + '.png', format='png')\n",
    "SuppFig1C.savefig('SuppFig1C' + '.svg', format='svg')"
   ]
  },
  {
   "cell_type": "markdown",
   "id": "c2cfe154",
   "metadata": {},
   "source": [
    "Full plot showing BZP-R(%) across different phases of SE and stratified across age, study size and economic group"
   ]
  },
  {
   "cell_type": "code",
   "execution_count": 20,
   "id": "0c58da01",
   "metadata": {},
   "outputs": [
    {
     "name": "stdout",
     "output_type": "stream",
     "text": [
      "Weighted mean BZP-R(%) reported for 10-30min SE duration 20.0 %\n",
      "Weighted mean BZP-R(%) reported for 31-60min SE duration 39.89 %\n",
      "Weighted mean BZP-R(%) reported for >60min SE durationC 44.67 %\n"
     ]
    }
   ],
   "source": [
    "print('Weighted mean BZP-R(%) reported for 10-30min SE duration', np.round(weighted_means_phases['Weighted mean 10-30min'],2),'%')\n",
    "print('Weighted mean BZP-R(%) reported for 31-60min SE duration', np.round(weighted_means_phases['Weighted mean 31-60min'],2),'%')\n",
    "print('Weighted mean BZP-R(%) reported for >60min SE durationC', np.round(weighted_means_phases['Weighted mean >60min'],2),'%')"
   ]
  },
  {
   "cell_type": "code",
   "execution_count": 21,
   "id": "85af869b",
   "metadata": {},
   "outputs": [
    {
     "data": {
      "image/png": "[encoded data removed]",
      "text/plain": [
       "<Figure size 360x360 with 1 Axes>"
      ]
     },
     "execution_count": 21,
     "metadata": {},
     "output_type": "execute_result"
    }
   ],
   "source": [
    "SuppFig1D"
   ]
  },
  {
   "cell_type": "code",
   "execution_count": 22,
   "id": "21add34c",
   "metadata": {},
   "outputs": [],
   "source": [
    "SuppFig1D.savefig('SuppFig1D' + '.png', format='png')\n",
    "SuppFig1D.savefig('SuppFig1D' + '.svg', format='svg')"
   ]
  }
 ],
 "metadata": {
  "kernelspec": {
   "display_name": "Python 3 (ipykernel)",
   "language": "python",
   "name": "python3"
  },
  "language_info": {
   "codemirror_mode": {
    "name": "ipython",
    "version": 3
   },
   "file_extension": ".py",
   "mimetype": "text/x-python",
   "name": "python",
   "nbconvert_exporter": "python",
   "pygments_lexer": "ipython3",
   "version": "3.9.7"
  }
 },
 "nbformat": 4,
 "nbformat_minor": 5
}
