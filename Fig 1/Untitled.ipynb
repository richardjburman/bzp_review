{
 "cells": [
  {
   "cell_type": "code",
   "execution_count": null,
   "id": "85effcc6",
   "metadata": {},
   "outputs": [],
   "source": [
    "print('For LMIC:') \n",
    "print('Mean BZP-R (%) for SE between 10-30min duration in LMIC: ',np.round(data_lmic['Mean 10-30min LMIC'],2),'%')\n",
    "print('Mean BZP-R (%) for SE between 31-60min duration in LMIC: ',np.round(data_lmic['Mean 31-60min LMIC'],2),'%')\n",
    "print('Mean BZP-R (%) for SE between <60min duration in LMIC: ',np.round(data_lmic['Mean <60min LMIC'],2),'%')\n",
    "print('Mean BZP-R (%) for SE between >60min duration in LMIC: ',np.round(data_lmic['Mean <60min LMIC'],2),'%')\n",
    "print('Statistic comparison between <60min vs >60min (p-value) in lmic: ',np.round(data_lmic['p-value LMIC'],2),'%')\n",
    "print('Statistic test used: ', data_lmic['Test'])\n",
    "\n",
    "print()"
   ]
  }
 ],
 "metadata": {
  "kernelspec": {
   "display_name": "Python 3 (ipykernel)",
   "language": "python",
   "name": "python3"
  },
  "language_info": {
   "codemirror_mode": {
    "name": "ipython",
    "version": 3
   },
   "file_extension": ".py",
   "mimetype": "text/x-python",
   "name": "python",
   "nbconvert_exporter": "python",
   "pygments_lexer": "ipython3",
   "version": "3.9.7"
  }
 },
 "nbformat": 4,
 "nbformat_minor": 5
}
