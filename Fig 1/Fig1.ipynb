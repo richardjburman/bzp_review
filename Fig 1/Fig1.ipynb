{
 "cells": [
  {
   "cell_type": "markdown",
   "id": "6aad53f2",
   "metadata": {},
   "source": [
    "Code for plotting metanalysis data in Fig 1 \n",
    "<br>\n",
    "created RJ Burman April 2020\n",
    "<br>\n",
    "modified RJ Burman July 2020\n",
    "<br>\n",
    "modified RJ Burman May 2021\n",
    "<br>\n",
    "modified RJ Burman Aug 2021\n",
    "<br>\n",
    "modified RJ Burman Nov 2021 *uploaded onto GitHub\n",
    "<br>\n",
    "modified RJ Burman Jan 2022 *submission of revised manuscript"
   ]
  },
  {
   "cell_type": "code",
   "execution_count": 1,
   "id": "58ce3943",
   "metadata": {
    "scrolled": true
   },
   "outputs": [
    {
     "name": "stderr",
     "output_type": "stream",
     "text": [
      "Missing colon in file 'C:\\\\Users\\\\rburman.MSDITUN-TMV0GCR\\\\.matplotlib\\\\matplotlibrc', line 2 ('\\x00')\n",
      "Missing colon in file 'C:\\\\Users\\\\rburman.MSDITUN-TMV0GCR\\\\.matplotlib\\\\matplotlibrc', line 4 ('\\x00')\n",
      "Missing colon in file 'C:\\\\Users\\\\rburman.MSDITUN-TMV0GCR\\\\.matplotlib\\\\matplotlibrc', line 5 ('\\x00')\n",
      "\n",
      "Bad key ÿþp\u0000d\u0000f\u0000.\u0000f\u0000o\u0000n\u0000t\u0000t\u0000y\u0000p\u0000e\u0000 in file C:\\Users\\rburman.MSDITUN-TMV0GCR\\.matplotlib\\matplotlibrc, line 1 ('ÿþp\\x00d\\x00f\\x00.\\x00f\\x00o\\x00n\\x00t\\x00t\\x00y\\x00p\\x00e\\x00:\\x00 \\x004\\x002\\x00')\n",
      "You probably need to get an updated matplotlibrc file from\n",
      "https://github.com/matplotlib/matplotlib/blob/v3.5.0/matplotlibrc.template\n",
      "or from the matplotlib source distribution\n",
      "\n",
      "Bad key \u0000p\u0000d\u0000f\u0000.\u0000f\u0000o\u0000n\u0000t\u0000t\u0000y\u0000p\u0000e\u0000 in file C:\\Users\\rburman.MSDITUN-TMV0GCR\\.matplotlib\\matplotlibrc, line 3 ('\\x00p\\x00d\\x00f\\x00.\\x00f\\x00o\\x00n\\x00t\\x00t\\x00y\\x00p\\x00e\\x00:\\x00 \\x004\\x002\\x00')\n",
      "You probably need to get an updated matplotlibrc file from\n",
      "https://github.com/matplotlib/matplotlib/blob/v3.5.0/matplotlibrc.template\n",
      "or from the matplotlib source distribution\n"
     ]
    }
   ],
   "source": [
    "#importing libraries\n",
    "import warnings\n",
    "warnings.filterwarnings(\"ignore\")\n",
    "import os\n",
    "import numpy as np\n",
    "import pandas as pd\n",
    "import matplotlib.pylab as plt\n",
    "plt.rcParams['svg.fonttype'] = 'none'\n",
    "import seaborn as sns\n",
    "import bzpR_Fig1 as bzpR\n",
    "\n",
    "import importlib\n",
    "#importlib.reload(bzpR)"
   ]
  },
  {
   "cell_type": "markdown",
   "id": "4b381894",
   "metadata": {},
   "source": [
    "Importing .csv file with data "
   ]
  },
  {
   "cell_type": "code",
   "execution_count": 2,
   "id": "42bf0f01",
   "metadata": {},
   "outputs": [
    {
     "data": {
      "text/html": [
       "<div>\n",
       "<style scoped>\n",
       "    .dataframe tbody tr th:only-of-type {\n",
       "        vertical-align: middle;\n",
       "    }\n",
       "\n",
       "    .dataframe tbody tr th {\n",
       "        vertical-align: top;\n",
       "    }\n",
       "\n",
       "    .dataframe thead th {\n",
       "        text-align: right;\n",
       "    }\n",
       "</style>\n",
       "<table border=\"1\" class=\"dataframe\">\n",
       "  <thead>\n",
       "    <tr style=\"text-align: right;\">\n",
       "      <th></th>\n",
       "      <th>study</th>\n",
       "      <th>year</th>\n",
       "      <th>region</th>\n",
       "      <th>state</th>\n",
       "      <th>age</th>\n",
       "      <th>resistance</th>\n",
       "      <th>episodes</th>\n",
       "      <th>phase</th>\n",
       "      <th>Unnamed: 8</th>\n",
       "      <th>Unnamed: 9</th>\n",
       "      <th>Unnamed: 10</th>\n",
       "    </tr>\n",
       "  </thead>\n",
       "  <tbody>\n",
       "    <tr>\n",
       "      <th>0</th>\n",
       "      <td>Skinner et al</td>\n",
       "      <td>2010</td>\n",
       "      <td>HND</td>\n",
       "      <td>LMIC</td>\n",
       "      <td>adult</td>\n",
       "      <td>65</td>\n",
       "      <td>31</td>\n",
       "      <td>&gt;60min</td>\n",
       "      <td>NaN</td>\n",
       "      <td>NaN</td>\n",
       "      <td>NaN</td>\n",
       "    </tr>\n",
       "    <tr>\n",
       "      <th>1</th>\n",
       "      <td>Burman et al</td>\n",
       "      <td>2019</td>\n",
       "      <td>SA</td>\n",
       "      <td>LMIC</td>\n",
       "      <td>paediatric</td>\n",
       "      <td>48</td>\n",
       "      <td>144</td>\n",
       "      <td>31-60min</td>\n",
       "      <td>NaN</td>\n",
       "      <td>NaN</td>\n",
       "      <td>NaN</td>\n",
       "    </tr>\n",
       "    <tr>\n",
       "      <th>2</th>\n",
       "      <td>Theusinger</td>\n",
       "      <td>2019</td>\n",
       "      <td>CHE</td>\n",
       "      <td>HIC</td>\n",
       "      <td>adult</td>\n",
       "      <td>28</td>\n",
       "      <td>126</td>\n",
       "      <td>10-30min</td>\n",
       "      <td>NaN</td>\n",
       "      <td>NaN</td>\n",
       "      <td>NaN</td>\n",
       "    </tr>\n",
       "    <tr>\n",
       "      <th>3</th>\n",
       "      <td>Theusinger</td>\n",
       "      <td>2019</td>\n",
       "      <td>CHE</td>\n",
       "      <td>HIC</td>\n",
       "      <td>paediatric</td>\n",
       "      <td>3</td>\n",
       "      <td>39</td>\n",
       "      <td>10-30min</td>\n",
       "      <td>NaN</td>\n",
       "      <td>NaN</td>\n",
       "      <td>NaN</td>\n",
       "    </tr>\n",
       "    <tr>\n",
       "      <th>4</th>\n",
       "      <td>Kay et al</td>\n",
       "      <td>2019</td>\n",
       "      <td>DEU</td>\n",
       "      <td>HIC</td>\n",
       "      <td>adult</td>\n",
       "      <td>28</td>\n",
       "      <td>42</td>\n",
       "      <td>31-60min</td>\n",
       "      <td>NaN</td>\n",
       "      <td>NaN</td>\n",
       "      <td>NaN</td>\n",
       "    </tr>\n",
       "    <tr>\n",
       "      <th>5</th>\n",
       "      <td>Hasan et al</td>\n",
       "      <td>2016</td>\n",
       "      <td>IND</td>\n",
       "      <td>LMIC</td>\n",
       "      <td>both</td>\n",
       "      <td>78</td>\n",
       "      <td>84</td>\n",
       "      <td>&gt;60min</td>\n",
       "      <td>NaN</td>\n",
       "      <td>NaN</td>\n",
       "      <td>NaN</td>\n",
       "    </tr>\n",
       "    <tr>\n",
       "      <th>6</th>\n",
       "      <td>Navarro et al</td>\n",
       "      <td>2016</td>\n",
       "      <td>FRA</td>\n",
       "      <td>HIC</td>\n",
       "      <td>adult</td>\n",
       "      <td>16</td>\n",
       "      <td>68</td>\n",
       "      <td>&gt;60min</td>\n",
       "      <td>NaN</td>\n",
       "      <td>NaN</td>\n",
       "      <td>NaN</td>\n",
       "    </tr>\n",
       "    <tr>\n",
       "      <th>7</th>\n",
       "      <td>Chamberlain et al</td>\n",
       "      <td>2014</td>\n",
       "      <td>USA</td>\n",
       "      <td>HIC</td>\n",
       "      <td>paediatric</td>\n",
       "      <td>15</td>\n",
       "      <td>273</td>\n",
       "      <td>unknown</td>\n",
       "      <td>NaN</td>\n",
       "      <td>NaN</td>\n",
       "      <td>NaN</td>\n",
       "    </tr>\n",
       "    <tr>\n",
       "      <th>8</th>\n",
       "      <td>Thakker et al</td>\n",
       "      <td>2013</td>\n",
       "      <td>IND</td>\n",
       "      <td>LMIC</td>\n",
       "      <td>paediatric</td>\n",
       "      <td>54</td>\n",
       "      <td>50</td>\n",
       "      <td>31-60min</td>\n",
       "      <td>NaN</td>\n",
       "      <td>NaN</td>\n",
       "      <td>NaN</td>\n",
       "    </tr>\n",
       "    <tr>\n",
       "      <th>9</th>\n",
       "      <td>Silbergleit et al</td>\n",
       "      <td>2012</td>\n",
       "      <td>USA</td>\n",
       "      <td>HIC</td>\n",
       "      <td>both</td>\n",
       "      <td>43</td>\n",
       "      <td>509</td>\n",
       "      <td>unknown</td>\n",
       "      <td>NaN</td>\n",
       "      <td>NaN</td>\n",
       "      <td>NaN</td>\n",
       "    </tr>\n",
       "    <tr>\n",
       "      <th>10</th>\n",
       "      <td>Mirsa et al</td>\n",
       "      <td>2012</td>\n",
       "      <td>IND</td>\n",
       "      <td>LMIC</td>\n",
       "      <td>adult</td>\n",
       "      <td>24</td>\n",
       "      <td>79</td>\n",
       "      <td>10-30min</td>\n",
       "      <td>NaN</td>\n",
       "      <td>NaN</td>\n",
       "      <td>NaN</td>\n",
       "    </tr>\n",
       "    <tr>\n",
       "      <th>11</th>\n",
       "      <td>Gathwala et al</td>\n",
       "      <td>2012</td>\n",
       "      <td>IND</td>\n",
       "      <td>LMIC</td>\n",
       "      <td>paediatric</td>\n",
       "      <td>14</td>\n",
       "      <td>120</td>\n",
       "      <td>unknown</td>\n",
       "      <td>NaN</td>\n",
       "      <td>NaN</td>\n",
       "      <td>NaN</td>\n",
       "    </tr>\n",
       "    <tr>\n",
       "      <th>12</th>\n",
       "      <td>Arya et al</td>\n",
       "      <td>2011</td>\n",
       "      <td>IND</td>\n",
       "      <td>LMIC</td>\n",
       "      <td>paediatric</td>\n",
       "      <td>18</td>\n",
       "      <td>141</td>\n",
       "      <td>unknown</td>\n",
       "      <td>NaN</td>\n",
       "      <td>NaN</td>\n",
       "      <td>NaN</td>\n",
       "    </tr>\n",
       "    <tr>\n",
       "      <th>13</th>\n",
       "      <td>Chen et al</td>\n",
       "      <td>2011</td>\n",
       "      <td>CHN</td>\n",
       "      <td>LMIC</td>\n",
       "      <td>adult</td>\n",
       "      <td>38</td>\n",
       "      <td>121</td>\n",
       "      <td>31-60min</td>\n",
       "      <td>NaN</td>\n",
       "      <td>NaN</td>\n",
       "      <td>NaN</td>\n",
       "    </tr>\n",
       "    <tr>\n",
       "      <th>14</th>\n",
       "      <td>Amare et al</td>\n",
       "      <td>2008</td>\n",
       "      <td>ETH</td>\n",
       "      <td>LMIC</td>\n",
       "      <td>adult</td>\n",
       "      <td>63</td>\n",
       "      <td>119</td>\n",
       "      <td>&gt;60min</td>\n",
       "      <td>NaN</td>\n",
       "      <td>NaN</td>\n",
       "      <td>NaN</td>\n",
       "    </tr>\n",
       "    <tr>\n",
       "      <th>15</th>\n",
       "      <td>Chin et al</td>\n",
       "      <td>2008</td>\n",
       "      <td>GBR</td>\n",
       "      <td>HIC</td>\n",
       "      <td>paediatric</td>\n",
       "      <td>35</td>\n",
       "      <td>240</td>\n",
       "      <td>31-60min</td>\n",
       "      <td>NaN</td>\n",
       "      <td>NaN</td>\n",
       "      <td>NaN</td>\n",
       "    </tr>\n",
       "    <tr>\n",
       "      <th>16</th>\n",
       "      <td>Mpimbaza et al</td>\n",
       "      <td>2008</td>\n",
       "      <td>UGA</td>\n",
       "      <td>LMIC</td>\n",
       "      <td>paediatric</td>\n",
       "      <td>37</td>\n",
       "      <td>330</td>\n",
       "      <td>&gt;60min</td>\n",
       "      <td>NaN</td>\n",
       "      <td>NaN</td>\n",
       "      <td>NaN</td>\n",
       "    </tr>\n",
       "    <tr>\n",
       "      <th>17</th>\n",
       "      <td>Ahmad et al</td>\n",
       "      <td>2006</td>\n",
       "      <td>MWI</td>\n",
       "      <td>LMIC</td>\n",
       "      <td>paediatric</td>\n",
       "      <td>25</td>\n",
       "      <td>80</td>\n",
       "      <td>&gt;60min</td>\n",
       "      <td>NaN</td>\n",
       "      <td>NaN</td>\n",
       "      <td>NaN</td>\n",
       "    </tr>\n",
       "    <tr>\n",
       "      <th>18</th>\n",
       "      <td>McIntyre et al</td>\n",
       "      <td>2005</td>\n",
       "      <td>GBR</td>\n",
       "      <td>HIC</td>\n",
       "      <td>paediatric</td>\n",
       "      <td>58</td>\n",
       "      <td>219</td>\n",
       "      <td>31-60min</td>\n",
       "      <td>NaN</td>\n",
       "      <td>NaN</td>\n",
       "      <td>NaN</td>\n",
       "    </tr>\n",
       "    <tr>\n",
       "      <th>19</th>\n",
       "      <td>Qureshi et al</td>\n",
       "      <td>2002</td>\n",
       "      <td>GBR</td>\n",
       "      <td>HIC</td>\n",
       "      <td>paediatric</td>\n",
       "      <td>25</td>\n",
       "      <td>48</td>\n",
       "      <td>31-60min</td>\n",
       "      <td>NaN</td>\n",
       "      <td>NaN</td>\n",
       "      <td>NaN</td>\n",
       "    </tr>\n",
       "    <tr>\n",
       "      <th>20</th>\n",
       "      <td>Mayer et al</td>\n",
       "      <td>2002</td>\n",
       "      <td>USA</td>\n",
       "      <td>HIC</td>\n",
       "      <td>adult</td>\n",
       "      <td>69</td>\n",
       "      <td>83</td>\n",
       "      <td>&gt;60min</td>\n",
       "      <td>NaN</td>\n",
       "      <td>NaN</td>\n",
       "      <td>NaN</td>\n",
       "    </tr>\n",
       "    <tr>\n",
       "      <th>21</th>\n",
       "      <td>Alldredge et al</td>\n",
       "      <td>2001</td>\n",
       "      <td>USA</td>\n",
       "      <td>HIC</td>\n",
       "      <td>adult</td>\n",
       "      <td>49</td>\n",
       "      <td>134</td>\n",
       "      <td>31-60min</td>\n",
       "      <td>NaN</td>\n",
       "      <td>NaN</td>\n",
       "      <td>NaN</td>\n",
       "    </tr>\n",
       "    <tr>\n",
       "      <th>22</th>\n",
       "      <td>Fisgin et al</td>\n",
       "      <td>2001</td>\n",
       "      <td>TUR</td>\n",
       "      <td>LMIC</td>\n",
       "      <td>paediatric</td>\n",
       "      <td>42</td>\n",
       "      <td>45</td>\n",
       "      <td>&gt;60min</td>\n",
       "      <td>NaN</td>\n",
       "      <td>NaN</td>\n",
       "      <td>NaN</td>\n",
       "    </tr>\n",
       "    <tr>\n",
       "      <th>23</th>\n",
       "      <td>Tabarki et al</td>\n",
       "      <td>2001</td>\n",
       "      <td>TUN</td>\n",
       "      <td>LMIC</td>\n",
       "      <td>paediatric</td>\n",
       "      <td>45</td>\n",
       "      <td>139</td>\n",
       "      <td>&gt;60min</td>\n",
       "      <td>NaN</td>\n",
       "      <td>NaN</td>\n",
       "      <td>NaN</td>\n",
       "    </tr>\n",
       "    <tr>\n",
       "      <th>24</th>\n",
       "      <td>Lahat et al</td>\n",
       "      <td>2000</td>\n",
       "      <td>ISR</td>\n",
       "      <td>HIC</td>\n",
       "      <td>paediatric</td>\n",
       "      <td>5</td>\n",
       "      <td>44</td>\n",
       "      <td>10-30min</td>\n",
       "      <td>NaN</td>\n",
       "      <td>NaN</td>\n",
       "      <td>NaN</td>\n",
       "    </tr>\n",
       "    <tr>\n",
       "      <th>25</th>\n",
       "      <td>Coeytaux et al</td>\n",
       "      <td>2000</td>\n",
       "      <td>CHE</td>\n",
       "      <td>HIC</td>\n",
       "      <td>both</td>\n",
       "      <td>12</td>\n",
       "      <td>172</td>\n",
       "      <td>&gt;60min</td>\n",
       "      <td>NaN</td>\n",
       "      <td>NaN</td>\n",
       "      <td>NaN</td>\n",
       "    </tr>\n",
       "    <tr>\n",
       "      <th>26</th>\n",
       "      <td>Scott et al</td>\n",
       "      <td>1999</td>\n",
       "      <td>GBR</td>\n",
       "      <td>HIC</td>\n",
       "      <td>both</td>\n",
       "      <td>33</td>\n",
       "      <td>42</td>\n",
       "      <td>31-60min</td>\n",
       "      <td>NaN</td>\n",
       "      <td>NaN</td>\n",
       "      <td>NaN</td>\n",
       "    </tr>\n",
       "    <tr>\n",
       "      <th>27</th>\n",
       "      <td>Treiman et al</td>\n",
       "      <td>1998</td>\n",
       "      <td>USA</td>\n",
       "      <td>HIC</td>\n",
       "      <td>adult</td>\n",
       "      <td>35</td>\n",
       "      <td>384</td>\n",
       "      <td>unknown</td>\n",
       "      <td>NaN</td>\n",
       "      <td>NaN</td>\n",
       "      <td>NaN</td>\n",
       "    </tr>\n",
       "    <tr>\n",
       "      <th>28</th>\n",
       "      <td>Chamberlain et al</td>\n",
       "      <td>1997</td>\n",
       "      <td>USA</td>\n",
       "      <td>HIC</td>\n",
       "      <td>paediatric</td>\n",
       "      <td>8</td>\n",
       "      <td>24</td>\n",
       "      <td>31-60min</td>\n",
       "      <td>NaN</td>\n",
       "      <td>NaN</td>\n",
       "      <td>NaN</td>\n",
       "    </tr>\n",
       "    <tr>\n",
       "      <th>29</th>\n",
       "      <td>Appleton et al</td>\n",
       "      <td>1995</td>\n",
       "      <td>GBR</td>\n",
       "      <td>HIC</td>\n",
       "      <td>paediatric</td>\n",
       "      <td>21</td>\n",
       "      <td>86</td>\n",
       "      <td>31-60min</td>\n",
       "      <td>NaN</td>\n",
       "      <td>NaN</td>\n",
       "      <td>NaN</td>\n",
       "    </tr>\n",
       "    <tr>\n",
       "      <th>30</th>\n",
       "      <td>Remy et al</td>\n",
       "      <td>1992</td>\n",
       "      <td>FRA</td>\n",
       "      <td>HIC</td>\n",
       "      <td>adult</td>\n",
       "      <td>28</td>\n",
       "      <td>39</td>\n",
       "      <td>unknown</td>\n",
       "      <td>NaN</td>\n",
       "      <td>NaN</td>\n",
       "      <td>NaN</td>\n",
       "    </tr>\n",
       "    <tr>\n",
       "      <th>31</th>\n",
       "      <td>Das et al</td>\n",
       "      <td>2020</td>\n",
       "      <td>IND</td>\n",
       "      <td>LMIC</td>\n",
       "      <td>paediatric</td>\n",
       "      <td>89</td>\n",
       "      <td>94</td>\n",
       "      <td>&gt;60min</td>\n",
       "      <td>NaN</td>\n",
       "      <td>NaN</td>\n",
       "      <td>NaN</td>\n",
       "    </tr>\n",
       "  </tbody>\n",
       "</table>\n",
       "</div>"
      ],
      "text/plain": [
       "                study  year region state         age  resistance  episodes  \\\n",
       "0       Skinner et al  2010    HND  LMIC       adult          65        31   \n",
       "1        Burman et al  2019     SA  LMIC  paediatric          48       144   \n",
       "2          Theusinger  2019    CHE   HIC       adult          28       126   \n",
       "3          Theusinger  2019    CHE   HIC  paediatric           3        39   \n",
       "4           Kay et al  2019    DEU   HIC       adult          28        42   \n",
       "5         Hasan et al  2016    IND  LMIC        both          78        84   \n",
       "6       Navarro et al  2016    FRA   HIC       adult          16        68   \n",
       "7   Chamberlain et al  2014    USA   HIC  paediatric          15       273   \n",
       "8       Thakker et al  2013    IND  LMIC  paediatric          54        50   \n",
       "9   Silbergleit et al  2012    USA   HIC        both          43       509   \n",
       "10        Mirsa et al  2012    IND  LMIC       adult          24        79   \n",
       "11     Gathwala et al  2012    IND  LMIC  paediatric          14       120   \n",
       "12         Arya et al  2011    IND  LMIC  paediatric          18       141   \n",
       "13         Chen et al  2011    CHN  LMIC       adult          38       121   \n",
       "14        Amare et al  2008    ETH  LMIC       adult          63       119   \n",
       "15        Chin et al   2008    GBR   HIC  paediatric          35       240   \n",
       "16     Mpimbaza et al  2008    UGA  LMIC  paediatric          37       330   \n",
       "17        Ahmad et al  2006    MWI  LMIC  paediatric          25        80   \n",
       "18     McIntyre et al  2005    GBR   HIC  paediatric          58       219   \n",
       "19      Qureshi et al  2002    GBR   HIC  paediatric          25        48   \n",
       "20        Mayer et al  2002    USA   HIC       adult          69        83   \n",
       "21    Alldredge et al  2001    USA   HIC       adult          49       134   \n",
       "22       Fisgin et al  2001    TUR  LMIC  paediatric          42        45   \n",
       "23      Tabarki et al  2001    TUN  LMIC  paediatric          45       139   \n",
       "24        Lahat et al  2000    ISR   HIC  paediatric           5        44   \n",
       "25    Coeytaux et al   2000    CHE   HIC        both          12       172   \n",
       "26        Scott et al  1999    GBR   HIC        both          33        42   \n",
       "27      Treiman et al  1998    USA   HIC       adult          35       384   \n",
       "28  Chamberlain et al  1997    USA   HIC  paediatric           8        24   \n",
       "29     Appleton et al  1995    GBR   HIC  paediatric          21        86   \n",
       "30         Remy et al  1992    FRA   HIC       adult          28        39   \n",
       "31          Das et al  2020    IND  LMIC  paediatric          89        94   \n",
       "\n",
       "       phase  Unnamed: 8  Unnamed: 9  Unnamed: 10  \n",
       "0     >60min         NaN         NaN          NaN  \n",
       "1   31-60min         NaN         NaN          NaN  \n",
       "2   10-30min         NaN         NaN          NaN  \n",
       "3   10-30min         NaN         NaN          NaN  \n",
       "4   31-60min         NaN         NaN          NaN  \n",
       "5     >60min         NaN         NaN          NaN  \n",
       "6     >60min         NaN         NaN          NaN  \n",
       "7    unknown         NaN         NaN          NaN  \n",
       "8   31-60min         NaN         NaN          NaN  \n",
       "9    unknown         NaN         NaN          NaN  \n",
       "10  10-30min         NaN         NaN          NaN  \n",
       "11   unknown         NaN         NaN          NaN  \n",
       "12   unknown         NaN         NaN          NaN  \n",
       "13  31-60min         NaN         NaN          NaN  \n",
       "14    >60min         NaN         NaN          NaN  \n",
       "15  31-60min         NaN         NaN          NaN  \n",
       "16    >60min         NaN         NaN          NaN  \n",
       "17    >60min         NaN         NaN          NaN  \n",
       "18  31-60min         NaN         NaN          NaN  \n",
       "19  31-60min         NaN         NaN          NaN  \n",
       "20    >60min         NaN         NaN          NaN  \n",
       "21  31-60min         NaN         NaN          NaN  \n",
       "22    >60min         NaN         NaN          NaN  \n",
       "23    >60min         NaN         NaN          NaN  \n",
       "24  10-30min         NaN         NaN          NaN  \n",
       "25    >60min         NaN         NaN          NaN  \n",
       "26  31-60min         NaN         NaN          NaN  \n",
       "27   unknown         NaN         NaN          NaN  \n",
       "28  31-60min         NaN         NaN          NaN  \n",
       "29  31-60min         NaN         NaN          NaN  \n",
       "30   unknown         NaN         NaN          NaN  \n",
       "31    >60min         NaN         NaN          NaN  "
      ]
     },
     "execution_count": 2,
     "metadata": {},
     "output_type": "execute_result"
    }
   ],
   "source": [
    "data = pd.read_csv(r'C:\\Users\\rburman.MSDITUN-TMV0GCR\\OneDrive - Nexus365\\Code\\bzp_review\\Fig 1\\Burman_Fig1_data.csv')\n",
    "data"
   ]
  },
  {
   "cell_type": "markdown",
   "id": "6aaf3f56",
   "metadata": {},
   "source": [
    "Counting the number of studies from high-income countries (HIC) and low-middle-income countires (LMIC)"
   ]
  },
  {
   "cell_type": "code",
   "execution_count": 3,
   "id": "766a0a55",
   "metadata": {},
   "outputs": [
    {
     "name": "stdout",
     "output_type": "stream",
     "text": [
      "HIC:  18 studies\n",
      "LMIC:  14 studies\n"
     ]
    }
   ],
   "source": [
    "no_of_studies = data['state'].value_counts()\n",
    "print('HIC: ',no_of_studies[0], 'studies')\n",
    "print('LMIC: ',no_of_studies[1], 'studies')"
   ]
  },
  {
   "cell_type": "markdown",
   "id": "c9a165a4",
   "metadata": {},
   "source": [
    "Calculating the total number of SE studies across all studies"
   ]
  },
  {
   "cell_type": "code",
   "execution_count": 4,
   "id": "ac6476ac",
   "metadata": {},
   "outputs": [
    {
     "name": "stdout",
     "output_type": "stream",
     "text": [
      "SE episodes across all studies:  4149 episodes\n"
     ]
    }
   ],
   "source": [
    "total_episodes = data['episodes'].sum()\n",
    "print('SE episodes across all studies: ',total_episodes, 'episodes')"
   ]
  },
  {
   "cell_type": "markdown",
   "id": "7719a7b2",
   "metadata": {},
   "source": [
    "Generating data and related plots for Fig1A using custom function bzpR.fig1A"
   ]
  },
  {
   "cell_type": "code",
   "execution_count": 5,
   "id": "30b85417",
   "metadata": {},
   "outputs": [],
   "source": [
    "Fig1A, SuppFig1A, nonweighted_stats, weighted_stats = bzpR.fig1A(data)"
   ]
  },
  {
   "cell_type": "markdown",
   "id": "08675bf5",
   "metadata": {},
   "source": [
    "Figure showing data across economic groups with mean +/- sem and comparative statistic reported"
   ]
  },
  {
   "cell_type": "code",
   "execution_count": 6,
   "id": "49ef6bfc",
   "metadata": {
    "scrolled": false
   },
   "outputs": [
    {
     "name": "stdout",
     "output_type": "stream",
     "text": [
      "BZP-Resistant SE reported from HIC studies (mean ± sem) :  28.39 ± 4.26 %\n",
      "BZP-Resistant SE reported from LMIC studies (mean ± sem) :  45.71 ± 5.97 %\n",
      "BZP-Resistant SE reported from studies across economic groups (mean ± sem) :  35.97 ± 3.81 %\n",
      "\n",
      "Statistic comparison between HIC vs LMIC (p-value):  0.02\n",
      "Statistic test used:  unpaired t-test\n"
     ]
    },
    {
     "data": {
      "image/png": "[encoded data removed]",
      "text/plain": [
       "<Figure size 360x360 with 1 Axes>"
      ]
     },
     "execution_count": 6,
     "metadata": {},
     "output_type": "execute_result"
    }
   ],
   "source": [
    "print('BZP-Resistant SE reported from HIC studies (mean \\u00B1 sem) : ', np.round(nonweighted_stats['Mean HIC'],2), u\"\\u00B1\", np.round(nonweighted_stats['SEM HIC'],2),'%')\n",
    "print('BZP-Resistant SE reported from LMIC studies (mean \\u00B1 sem) : ', np.round(nonweighted_stats['Mean LMIC'],2), u\"\\u00B1\", np.round(nonweighted_stats['SEM LMIC'],2),'%')\n",
    "print('BZP-Resistant SE reported from studies across economic groups (mean \\u00B1 sem) : ', np.round(nonweighted_stats['Mean Total'],2), u\"\\u00B1\", np.round(nonweighted_stats['SEM Total'],2),'%')\n",
    "print()\n",
    "p_value = nonweighted_stats['p-value']\n",
    "print('Statistic comparison between HIC vs LMIC (p-value): ', np.round(p_value[1],2))\n",
    "print('Statistic test used: ', nonweighted_stats['test'])\n",
    "\n",
    "Fig1A"
   ]
  },
  {
   "cell_type": "code",
   "execution_count": 7,
   "id": "9125c2b5",
   "metadata": {},
   "outputs": [
    {
     "name": "stderr",
     "output_type": "stream",
     "text": [
      "The PostScript backend does not support transparency; partially transparent artists will be rendered opaque.\n"
     ]
    }
   ],
   "source": [
    "os.chdir(r'C:\\Users\\rburman.MSDITUN-TMV0GCR\\OneDrive - Nexus365\\Code\\bzp_review\\Fig 1')\n",
    "Fig1A.savefig('Fig1A' + '.png', format='png')\n",
    "Fig1A.savefig('Fig1A' + '.eps', format='eps')"
   ]
  },
  {
   "cell_type": "markdown",
   "id": "c3c6d961",
   "metadata": {},
   "source": [
    "Plot showing resistance reported across studies weighted by sample size and separated by age group of participants"
   ]
  },
  {
   "cell_type": "code",
   "execution_count": 8,
   "id": "c21a6ca0",
   "metadata": {
    "scrolled": false
   },
   "outputs": [
    {
     "name": "stdout",
     "output_type": "stream",
     "text": [
      "BZP-Resistant SE reported from HIC studies weighted to sample size (weigh. mean ± sem) :  33.7 ± 0.31 %\n",
      "BZP-Resistant SE reported from LMIC studies weighted to sample size (weigh. mean ± sem) :  42.55 ± 0.5 %\n",
      "BZP-Resistant SE reported from studies across economic groups weighted to sample size (weigh. mean ± sem) :  37.07 ± 0.28 %\n",
      "\n",
      "*SEM lines are plotted within weighted mean circles\n"
     ]
    },
    {
     "data": {
      "image/png": "[encoded data removed]",
      "text/plain": [
       "<Figure size 360x360 with 1 Axes>"
      ]
     },
     "execution_count": 8,
     "metadata": {},
     "output_type": "execute_result"
    }
   ],
   "source": [
    "print('BZP-Resistant SE reported from HIC studies weighted to sample size (weigh. mean \\u00B1 sem) : ', np.round(weighted_stats['Weighted Mean HIC'],2), u\"\\u00B1\", np.round(weighted_stats['Weighted SEM HIC'],2),'%')\n",
    "print('BZP-Resistant SE reported from LMIC studies weighted to sample size (weigh. mean \\u00B1 sem) : ', np.round(weighted_stats['Weighted Mean LMIC'],2), u\"\\u00B1\", np.round(weighted_stats['Weighted SEM LMIC'],2),'%')\n",
    "print('BZP-Resistant SE reported from studies across economic groups weighted to sample size (weigh. mean \\u00B1 sem) : ', np.round(weighted_stats['Weighted Mean Total'],2), u\"\\u00B1\", np.round(weighted_stats['Weighted SEM Total'],2),'%')\n",
    "print()\n",
    "print('*SEM lines are plotted within weighted mean circles')\n",
    "SuppFig1A\n"
   ]
  },
  {
   "cell_type": "code",
   "execution_count": 9,
   "id": "4d0f1559",
   "metadata": {},
   "outputs": [
    {
     "name": "stderr",
     "output_type": "stream",
     "text": [
      "The PostScript backend does not support transparency; partially transparent artists will be rendered opaque.\n"
     ]
    }
   ],
   "source": [
    "os.chdir(r'C:\\Users\\rburman.MSDITUN-TMV0GCR\\OneDrive - Nexus365\\Code\\bzp_review\\Fig 1')\n",
    "SuppFig1A.savefig('SuppFig1A' + '.png', format='png')\n",
    "SuppFig1A.savefig('SuppFig1A' + '.eps', format='eps')"
   ]
  },
  {
   "cell_type": "markdown",
   "id": "cf5c320c",
   "metadata": {},
   "source": [
    "Calculating metrics and plotting figures for data associating BZP-R (%) with SE duration\n",
    "SE duration categorised as either <60min or >60min"
   ]
  },
  {
   "cell_type": "markdown",
   "id": "a989d8e2",
   "metadata": {},
   "source": [
    "Fig1B - revised figure demonstrating signifiant increase in BZP-R(%) with SE over 60min"
   ]
  },
  {
   "cell_type": "code",
   "execution_count": 10,
   "id": "85bd9640",
   "metadata": {},
   "outputs": [],
   "source": [
    "Fig1B, nonweighted_stats_phases, weighted_stats_phases = bzpR.fig1B(data)"
   ]
  },
  {
   "cell_type": "code",
   "execution_count": 11,
   "id": "19d13540",
   "metadata": {
    "scrolled": false
   },
   "outputs": [
    {
     "name": "stdout",
     "output_type": "stream",
     "text": [
      "BZP resistance reported for SE duration <60min (mean ± sem) :  30.47 ± 4.43 %\n",
      "BZP resistance reported for SE duration >60min (mean ± sem) :  49.18 ± 7.71 %\n",
      "\n",
      "Statistic comparison between <60min vs >60min (p-value):  0.03\n",
      "Statistic test used:  unpaired t-test\n"
     ]
    },
    {
     "data": {
      "image/png": "[encoded data removed]",
      "text/plain": [
       "<Figure size 360x360 with 1 Axes>"
      ]
     },
     "execution_count": 11,
     "metadata": {},
     "output_type": "execute_result"
    }
   ],
   "source": [
    "print('BZP resistance reported for SE duration <60min (mean \\u00B1 sem) : ', np.round(nonweighted_stats_phases['Mean <60min'],2), u\"\\u00B1\", np.round(nonweighted_stats_phases['SEM <60min'],2),'%')\n",
    "print('BZP resistance reported for SE duration >60min (mean \\u00B1 sem) : ', np.round(nonweighted_stats_phases['Mean >60min'],2), u\"\\u00B1\", np.round(nonweighted_stats_phases['SEM >60min'],2),'%')\n",
    "print()\n",
    "p_value = nonweighted_stats_phases['p-value']\n",
    "print('Statistic comparison between <60min vs >60min (p-value): ', np.round(p_value[1],2))\n",
    "print('Statistic test used: ', nonweighted_stats['test'])\n",
    "Fig1B"
   ]
  },
  {
   "cell_type": "markdown",
   "id": "37a1169c",
   "metadata": {},
   "source": [
    "Saving figures in output directory"
   ]
  },
  {
   "cell_type": "code",
   "execution_count": 12,
   "id": "373c9c97",
   "metadata": {
    "scrolled": true
   },
   "outputs": [
    {
     "name": "stderr",
     "output_type": "stream",
     "text": [
      "The PostScript backend does not support transparency; partially transparent artists will be rendered opaque.\n"
     ]
    }
   ],
   "source": [
    "os.chdir(r'C:\\Users\\rburman.MSDITUN-TMV0GCR\\OneDrive - Nexus365\\Code\\bzp_review\\Fig 1')\n",
    "Fig1B.savefig('Fig1B' + '.png', format='png')\n",
    "Fig1B.savefig('Fig1B' + '.eps', format='eps')"
   ]
  },
  {
   "cell_type": "markdown",
   "id": "305733bf",
   "metadata": {},
   "source": [
    "Supp Fig1B - Stratifying data in Fig1B across different economic groups"
   ]
  },
  {
   "cell_type": "code",
   "execution_count": 13,
   "id": "97363ef5",
   "metadata": {},
   "outputs": [],
   "source": [
    "nonweighted_stats_phases_eco, weighted_stats_phases_eco, cont_table, cont_stats, perc_table, Fig1C, SuppFig1B, SuppFig1C = bzpR.suppfigs(data, p_value, weighted_stats_phases )"
   ]
  },
  {
   "cell_type": "markdown",
   "id": "0c53a345",
   "metadata": {},
   "source": [
    "Data from studies produced by High-income (HIC) and low-middle-income (LMIC) countries: "
   ]
  },
  {
   "cell_type": "code",
   "execution_count": 14,
   "id": "e2a5174f",
   "metadata": {},
   "outputs": [
    {
     "name": "stdout",
     "output_type": "stream",
     "text": [
      "For HIC:\n",
      "BZP resistance reported for SE duration 10-30min duration (mean ± sem) :  12.0 ± 8.02 %\n",
      "BZP resistance reported for SE duration 31-60min duration (mean ± sem) :  32.12 ± 5.57 %\n",
      "BZP resistance reported for SE duration <60min duration (mean ± sem) :  26.64 ± 5.23 %\n",
      "BZP resistance reported for SE duration >60min duration (mean ± sem) :  32.33 ± 18.37 %\n",
      "Statistic comparison between <60min vs >60min (p-value) in lmic:  0.19\n",
      "Statistic test used:  unpaired t-test\n",
      "\n",
      "For LMIC:\n",
      "BZP resistance reported for SE duration 10-30min duration (mean ± sem) :  24.0 ± nan %\n",
      "BZP resistance reported for SE duration 31-60min duration (mean ± sem) :  46.67 ± 4.67 %\n",
      "BZP resistance reported for SE duration <60min duration (mean ± sem) :  41.0 ± 6.56 %\n",
      "BZP resistance reported for SE duration >60min duration (mean ± sem) :  55.5 ± 7.72 %\n",
      "Statistic comparison between <60min vs >60min (p-value) in lmic:  0.26\n",
      "Statistic test used:  unpaired t-test\n"
     ]
    },
    {
     "data": {
      "image/png": "[encoded data removed]",
      "text/plain": [
       "<Figure size 360x360 with 1 Axes>"
      ]
     },
     "execution_count": 14,
     "metadata": {},
     "output_type": "execute_result"
    }
   ],
   "source": [
    "print('For HIC:') \n",
    "print('BZP resistance reported for SE duration 10-30min duration (mean \\u00B1 sem) : ', np.round(nonweighted_stats_phases_eco['HIC Mean 10-30min'],2), u\"\\u00B1\", np.round(nonweighted_stats_phases_eco['HIC SEM 10-30min'],2),'%')\n",
    "print('BZP resistance reported for SE duration 31-60min duration (mean \\u00B1 sem) : ', np.round(nonweighted_stats_phases_eco['HIC Mean 31-60min'],2), u\"\\u00B1\", np.round(nonweighted_stats_phases_eco['HIC SEM 31-60min'],2),'%')\n",
    "print('BZP resistance reported for SE duration <60min duration (mean \\u00B1 sem) : ', np.round(nonweighted_stats_phases_eco['HIC Mean <60min'],2), u\"\\u00B1\", np.round(nonweighted_stats_phases_eco['HIC SEM <60min'],2),'%')\n",
    "print('BZP resistance reported for SE duration >60min duration (mean \\u00B1 sem) : ', np.round(nonweighted_stats_phases_eco['HIC Mean >60min'],2), u\"\\u00B1\", np.round(nonweighted_stats_phases_eco['HIC SEM >60min'],2),'%')\n",
    "\n",
    "p_value_hic = nonweighted_stats_phases_eco['p-value HIC']\n",
    "p_value_hic = p_value_hic[1]\n",
    "print('Statistic comparison between <60min vs >60min (p-value) in lmic: ',np.round(p_value_hic,2),)\n",
    "print('Statistic test used: ', nonweighted_stats_phases_eco['test HIC'])\n",
    "\n",
    "print()\n",
    "\n",
    "print('For LMIC:') \n",
    "print('BZP resistance reported for SE duration 10-30min duration (mean \\u00B1 sem) : ', np.round(nonweighted_stats_phases_eco['LMIC Mean 10-30min'],2), u\"\\u00B1\", np.round(nonweighted_stats_phases_eco['LMIC SEM 10-30min'],2),'%')\n",
    "print('BZP resistance reported for SE duration 31-60min duration (mean \\u00B1 sem) : ', np.round(nonweighted_stats_phases_eco['LMIC Mean 31-60min'],2), u\"\\u00B1\", np.round(nonweighted_stats_phases_eco['LMIC SEM 31-60min'],2),'%')\n",
    "print('BZP resistance reported for SE duration <60min duration (mean \\u00B1 sem) : ', np.round(nonweighted_stats_phases_eco['LMIC Mean <60min'],2), u\"\\u00B1\", np.round(nonweighted_stats_phases_eco['LMIC SEM <60min'],2),'%')\n",
    "print('BZP resistance reported for SE duration >60min duration (mean \\u00B1 sem) : ', np.round(nonweighted_stats_phases_eco['LMIC Mean >60min'],2), u\"\\u00B1\", np.round(nonweighted_stats_phases_eco['LMIC SEM >60min'],2),'%')\n",
    "\n",
    "p_value_lmic = nonweighted_stats_phases_eco['p-value LMIC']\n",
    "p_value_lmic = p_value_lmic[1]\n",
    "print('Statistic comparison between <60min vs >60min (p-value) in lmic: ',np.round(p_value_lmic,2),)\n",
    "print('Statistic test used: ', nonweighted_stats_phases_eco['test LMIC'])\n",
    "\n",
    "SuppFig1B"
   ]
  },
  {
   "cell_type": "code",
   "execution_count": 15,
   "id": "43c1c2d8",
   "metadata": {},
   "outputs": [
    {
     "name": "stderr",
     "output_type": "stream",
     "text": [
      "The PostScript backend does not support transparency; partially transparent artists will be rendered opaque.\n"
     ]
    }
   ],
   "source": [
    "SuppFig1B.savefig('SuppFig1B' + '.png', format='png')\n",
    "SuppFig1B.savefig('SuppFig1B' + '.eps', format='eps')"
   ]
  },
  {
   "cell_type": "markdown",
   "id": "e539e950",
   "metadata": {},
   "source": [
    "Contingency table showing association between duration of SE reported and economic area in which study performed"
   ]
  },
  {
   "cell_type": "code",
   "execution_count": 16,
   "id": "5b504c8d",
   "metadata": {},
   "outputs": [
    {
     "name": "stdout",
     "output_type": "stream",
     "text": [
      "╒══════╤═════════════╤═════════════╕\n",
      "│      │   SE <60min │   SE >60min │\n",
      "╞══════╪═════════════╪═════════════╡\n",
      "│ HIC  │          11 │           3 │\n",
      "├──────┼─────────────┼─────────────┤\n",
      "│ LMIC │           4 │           8 │\n",
      "╘══════╧═════════════╧═════════════╛\n",
      "p-value (Fisher-Exact Test):  0.044737\n",
      "Odds Ratio:  7.33\n",
      "╒══════╤═════════════╤═════════════╕\n",
      "│      │ SE <60min   │ SE >60min   │\n",
      "╞══════╪═════════════╪═════════════╡\n",
      "│ HIC  │ 78.57%      │ 21.43%      │\n",
      "├──────┼─────────────┼─────────────┤\n",
      "│ LMIC │ 33.33%      │ 66.67%      │\n",
      "╘══════╧═════════════╧═════════════╛\n"
     ]
    }
   ],
   "source": [
    "p_value = cont_stats['p-value']\n",
    "OR = np.round(cont_stats['OR'],2)\n",
    "\n",
    "print(cont_table)\n",
    "print('p-value (Fisher-Exact Test): ','{:f}'.format(p_value))\n",
    "print('Odds Ratio: ', OR)\n",
    "print(perc_table)"
   ]
  },
  {
   "cell_type": "markdown",
   "id": "570be651",
   "metadata": {},
   "source": [
    "Iterpretation: Studis reporting SE duration >60min prior to BZP treatment are more likely to come from LMIC compared to HIC"
   ]
  },
  {
   "cell_type": "markdown",
   "id": "5cdc82a5",
   "metadata": {},
   "source": [
    "Plotting difference in number of SE duration across economic groups"
   ]
  },
  {
   "cell_type": "code",
   "execution_count": 17,
   "id": "56c734e2",
   "metadata": {},
   "outputs": [
    {
     "data": {
      "image/png": "[encoded data removed]",
      "text/plain": [
       "<Figure size 360x360 with 1 Axes>"
      ]
     },
     "execution_count": 17,
     "metadata": {},
     "output_type": "execute_result"
    }
   ],
   "source": [
    "Fig1C"
   ]
  },
  {
   "cell_type": "code",
   "execution_count": 18,
   "id": "da7511a5",
   "metadata": {},
   "outputs": [
    {
     "name": "stderr",
     "output_type": "stream",
     "text": [
      "The PostScript backend does not support transparency; partially transparent artists will be rendered opaque.\n"
     ]
    }
   ],
   "source": [
    "Fig1C.savefig('Fig1C' + '.png', format='png')\n",
    "Fig1C.savefig('Fig1C' + '.eps', format='eps')"
   ]
  },
  {
   "cell_type": "markdown",
   "id": "c2cfe154",
   "metadata": {},
   "source": [
    "Full plot showing BZP-R(%) across different phases of SE and stratified across age, study size and economic group"
   ]
  },
  {
   "cell_type": "code",
   "execution_count": 19,
   "id": "0c58da01",
   "metadata": {},
   "outputs": [
    {
     "name": "stdout",
     "output_type": "stream",
     "text": [
      "Weighted mean BZP-R(%) reported for 10-30min SE duration (mean ± sem) 20.0 ± 0.61 %\n",
      "Weighted mean BZP-R(%) reported for 31-60min SE duration (mean ± sem) 41.42 ± 0.37 %\n",
      "Weighted mean BZP-R(%) reported for >60min SE duration (mean ± sem) 44.71 ± 0.66 %\n"
     ]
    },
    {
     "data": {
      "image/png": "[encoded data removed]",
      "text/plain": [
       "<Figure size 360x360 with 1 Axes>"
      ]
     },
     "execution_count": 19,
     "metadata": {},
     "output_type": "execute_result"
    }
   ],
   "source": [
    "print('Weighted mean BZP-R(%) reported for 10-30min SE duration (mean \\u00B1 sem)', np.round(weighted_stats_phases['Weighted Mean 10-30min'],2), u\"\\u00B1\", np.round(weighted_stats_phases['Weighted SEM 10-30min'],2),'%')\n",
    "print('Weighted mean BZP-R(%) reported for 31-60min SE duration (mean \\u00B1 sem)', np.round(weighted_stats_phases ['Weighted Mean 31-60min'],2), u\"\\u00B1\", np.round(weighted_stats_phases['Weighted SEM 31-60min'],2),'%')\n",
    "print('Weighted mean BZP-R(%) reported for >60min SE duration (mean \\u00B1 sem)', np.round(weighted_stats_phases ['Weighted Mean >60min'],2), u\"\\u00B1\", np.round(weighted_stats_phases['Weighted SEM >60min'],2),'%')\n",
    "\n",
    "SuppFig1C"
   ]
  },
  {
   "cell_type": "code",
   "execution_count": 20,
   "id": "21add34c",
   "metadata": {},
   "outputs": [
    {
     "name": "stderr",
     "output_type": "stream",
     "text": [
      "The PostScript backend does not support transparency; partially transparent artists will be rendered opaque.\n"
     ]
    }
   ],
   "source": [
    "SuppFig1C.savefig('SuppFig1D' + '.png', format='png')\n",
    "SuppFig1C.savefig('SuppFig1C' + '.eps', format='eps')"
   ]
  }
 ],
 "metadata": {
  "kernelspec": {
   "display_name": "Python 3 (ipykernel)",
   "language": "python",
   "name": "python3"
  },
  "language_info": {
   "codemirror_mode": {
    "name": "ipython",
    "version": 3
   },
   "file_extension": ".py",
   "mimetype": "text/x-python",
   "name": "python",
   "nbconvert_exporter": "python",
   "pygments_lexer": "ipython3",
   "version": "3.9.7"
  }
 },
 "nbformat": 4,
 "nbformat_minor": 5
}
